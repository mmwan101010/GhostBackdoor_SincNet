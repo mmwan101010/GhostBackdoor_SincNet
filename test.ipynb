{
 "cells": [
  {
   "cell_type": "code",
   "execution_count": 1,
   "metadata": {},
   "outputs": [
    {
     "name": "stdout",
     "output_type": "stream",
     "text": [
      "[393, 1442, 1731, 1412, 583, 1305, 881, 1604, 320, 398, 1242, 510, 1888, 2041, 1243, 173, 181, 690, 1352, 262, 641, 359, 1180, 2035, 73, 1420, 688, 159, 1872, 1777, 1089, 1276, 1665, 1934, 972, 953, 1135, 582, 68, 1861, 1804, 1889, 1606, 1314, 1390, 1765, 1908, 1523, 1971, 605]\n"
     ]
    }
   ],
   "source": [
    "import random\n",
    "\n",
    "random_numbers = random.sample(range(1, 2048), 50)\n",
    "print(random_numbers)"
   ]
  },
  {
   "cell_type": "code",
   "execution_count": null,
   "metadata": {},
   "outputs": [],
   "source": [
    "import os\n",
    "\n",
    "def rename_files(path):\n",
    "    for root, dirs, files in os.walk(path):\n",
    "        for name in files:\n",
    "            # 获取文件的后缀\n",
    "            file_extension = os.path.splitext(name)[1]\n",
    "\n",
    "            # 如果文件名中包含大写字母，则进行转换\n",
    "            if any(c.isupper() for c in name):\n",
    "                # 构建新的文件名\n",
    "                new_name = name.lower()\n",
    "\n",
    "                # 如果新的文件名与旧的文件名相同，则不进行重命名\n",
    "                if new_name == name:\n",
    "                    continue\n",
    "\n",
    "                # 重命名文件\n",
    "                os.rename(os.path.join(root, name), os.path.join(root, new_name))\n",
    "\n",
    "                # 如果文件有后缀，则同时修改后缀\n",
    "                if file_extension:\n",
    "                    new_extension = file_extension.lower()\n",
    "                    os.rename(os.path.join(root, new_name), os.path.join(root, new_name.replace(file_extension, new_extension)))\n",
    "\n",
    "        for name in dirs:\n",
    "            # 如果文件夹名中包含大写字母，则进行转换\n",
    "            if any(c.isupper() for c in name):\n",
    "                # 构建新的文件夹名\n",
    "                new_name = name.lower()\n",
    "\n",
    "                # 如果新的文件夹名与旧的文件夹名相同，则不进行重命名\n",
    "                if new_name == name:\n",
    "                    continue\n",
    "\n",
    "                # 重命名文件夹\n",
    "                os.rename(os.path.join(root, name), os.path.join(root, new_name))\n",
    "\n",
    "# 调用函数，传入要处理的目录路径\n",
    "rename_files('X:\\Directory\\code\\dataset\\TIMIT_sinc')"
   ]
  },
  {
   "cell_type": "code",
   "execution_count": null,
   "metadata": {},
   "outputs": [],
   "source": [
    "import numpy as np\n",
    "\n",
    "a = np.load('X:\\Directory\\code\\DeafBackdoor_SincNet\\data_lists\\TIMIT_labels.npy',allow_pickle=True)\n",
    "print(a)"
   ]
  },
  {
   "cell_type": "code",
   "execution_count": null,
   "metadata": {},
   "outputs": [],
   "source": [
    "drop = [0,1,0]\n"
   ]
  },
  {
   "cell_type": "code",
   "execution_count": 2,
   "metadata": {},
   "outputs": [],
   "source": [
    "# 打开文件\n",
    "file_path = 'data_lists/libri_te.scp'\n",
    "with open(file_path, 'r') as file:\n",
    "    # 读取文件内容\n",
    "    content = file.read()\n",
    "content1 = content.split(\"\\n\")\n",
    "# 打印文件内容\n",
    "#print(content1)\n",
    "content2 = ''\n",
    "for i in range(len(content1)):\n",
    "    if i % 3 == 0:\n",
    "        content2 = content2 + content1[i] + '\\n'\n",
    "# 创建并打开文件\n",
    "file_savepath = 'data_lists/libri_te_462.scp'\n",
    "with open(file_savepath, 'w') as file:\n",
    "    # 将字符串写入文件\n",
    "    file.write(content2)"
   ]
  },
  {
   "cell_type": "code",
   "execution_count": 1,
   "metadata": {},
   "outputs": [
    {
     "name": "stdout",
     "output_type": "stream",
     "text": [
      "10\n"
     ]
    }
   ],
   "source": [
    "output_folder='exp/'\n",
    "wandb_name='AAA_1-10'\n",
    "\n",
    "# 获取wandb_name的最后两个字符\n",
    "last_two_chars = wandb_name[-2:]\n",
    "\n",
    "# 构建保存文件的路径\n",
    "file_path = output_folder + 'drop_neuro' + '.txt'\n",
    "\n",
    "# 写入文件\n",
    "with open(file_path, 'w') as file:\n",
    "    file.write(last_two_chars)\n",
    "\n",
    "# 下次可以直接打开文件读取\n",
    "with open(file_path, 'r') as file:\n",
    "    contents = file.read()\n",
    "    print(contents)\n"
   ]
  },
  {
   "cell_type": "code",
   "execution_count": 10,
   "metadata": {},
   "outputs": [
    {
     "data": {
      "image/png": "[encoded data removed]",
      "text/plain": [
       "<Figure size 720x360 with 1 Axes>"
      ]
     },
     "metadata": {
      "needs_background": "light"
     },
     "output_type": "display_data"
    }
   ],
   "source": [
    "import pandas as pd\n",
    "\n",
    "# 替换下面的路径为你的 CSV 文件路径\n",
    "file_path = 'D:\\code\\code_xwd\\GhostBackdoor_SincNet\\zhifangtu.csv'\n",
    "\n",
    "# 读取 CSV 文件\n",
    "data = pd.read_csv(file_path)\n",
    "\n",
    "import matplotlib.pyplot as plt\n",
    "\n",
    "# 设定图像大小和子图布局\n",
    "fig, axes = plt.subplots(nrows=len(data.columns), ncols=1, figsize=(10, 5 * len(data.columns)))\n",
    "\n",
    "# 如果只有一列数据，将 axes 转换为列表\n",
    "if len(data.columns) == 1:\n",
    "    axes = [axes]\n",
    "\n",
    "# 遍历每一列绘制直方图\n",
    "for ax, (col_name, col_data) in zip(axes, data.iteritems()):\n",
    "    ax.hist(col_data.dropna(), bins=100, color='green', edgecolor='black')  # dropna() 移除 NaN 值\n",
    "    ax.set_title(f'Distribution of {col_name}')\n",
    "    ax.set_xlabel('Values')\n",
    "    ax.set_ylabel('Frequency')\n",
    "\n",
    "    # 可以使用 xticks 旋转以改善 x 轴标签的显示\n",
    "    plt.setp(ax.get_xticklabels(), rotation=45, ha=\"right\", rotation_mode=\"anchor\")\n",
    "\n",
    "# 调整子图间的间隔\n",
    "plt.tight_layout()\n",
    "plt.show()\n"
   ]
  },
  {
   "cell_type": "code",
   "execution_count": 12,
   "metadata": {},
   "outputs": [
    {
     "data": {
      "image/png": "[encoded data removed]",
      "text/plain": [
       "<Figure size 864x576 with 1 Axes>"
      ]
     },
     "metadata": {
      "needs_background": "light"
     },
     "output_type": "display_data"
    }
   ],
   "source": [
    "import matplotlib.pyplot as plt\n",
    "import pandas as pd\n",
    "import numpy as np\n",
    "\n",
    "# 读取数据\n",
    "file_path = 'D:\\code\\code_xwd\\GhostBackdoor_SincNet\\zhifangtu.csv'\n",
    "data = pd.read_csv(file_path)\n",
    "\n",
    "# 设置图像大小\n",
    "plt.figure(figsize=(12, 8 * len(data.columns)))\n",
    "\n",
    "# 遍历数据帧中的每一列\n",
    "for index, (column_name, column_data) in enumerate(data.iteritems()):\n",
    "    plt.subplot(len(data.columns), 1, index + 1)  # 为每一列创建一个子图\n",
    "\n",
    "    # 计算直方图的数据和边界\n",
    "    counts, bins, patches = plt.hist(column_data.dropna(), bins=50, color='skyblue', edgecolor='black')\n",
    "\n",
    "    # 设置标题和标签\n",
    "    plt.title(f'Distribution of {column_name}')\n",
    "    plt.xlabel('Value')\n",
    "    plt.ylabel('Frequency')\n",
    "\n",
    "    # 设置 x 轴刻度标签\n",
    "    bin_centers = 0.5 * np.diff(bins) + bins[:-1]  # 计算每个 bin 的中心点\n",
    "    min_bin = min(bin_centers)\n",
    "    max_bin = max(bin_centers)\n",
    "    plt.xticks(bins.round(2), labels=[f'{bin:.2f}' for bin in bins], rotation=90)  # 格式化为两位小数\n",
    "\n",
    "# 调整布局\n",
    "plt.tight_layout()\n",
    "plt.show()\n"
   ]
  }
 ],
 "metadata": {
  "kernelspec": {
   "display_name": "Python 3 (ipykernel)",
   "language": "python",
   "name": "python3"
  },
  "language_info": {
   "codemirror_mode": {
    "name": "ipython",
    "version": 3
   },
   "file_extension": ".py",
   "mimetype": "text/x-python",
   "name": "python",
   "nbconvert_exporter": "python",
   "pygments_lexer": "ipython3",
   "version": "3.6.13"
  },
  "vscode": {
   "interpreter": {
    "hash": "d66e69d5822c617b0af9569a00c8e2233d69a898383c90dad9bd8b95cb6cdb8d"
   }
  }
 },
 "nbformat": 4,
 "nbformat_minor": 4
}
